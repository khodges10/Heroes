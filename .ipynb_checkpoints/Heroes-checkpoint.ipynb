{
 "cells": [
  {
   "cell_type": "code",
   "execution_count": 1,
   "metadata": {},
   "outputs": [],
   "source": [
    "# Dependencies and Setup\n",
    "import pandas as pd\n",
    "import numpy as np\n",
    "\n",
    "# File to Load\n",
    "file = \"Resources/purchase_data.csv\"\n",
    "\n",
    "# Read Purchasing File and store into Pandas data frame\n",
    "purchase_data = pd.read_csv(file)"
   ]
  },
  {
   "cell_type": "code",
   "execution_count": 14,
   "metadata": {},
   "outputs": [
    {
     "data": {
      "text/html": [
       "<div>\n",
       "<style scoped>\n",
       "    .dataframe tbody tr th:only-of-type {\n",
       "        vertical-align: middle;\n",
       "    }\n",
       "\n",
       "    .dataframe tbody tr th {\n",
       "        vertical-align: top;\n",
       "    }\n",
       "\n",
       "    .dataframe thead th {\n",
       "        text-align: right;\n",
       "    }\n",
       "</style>\n",
       "<table border=\"1\" class=\"dataframe\">\n",
       "  <thead>\n",
       "    <tr style=\"text-align: right;\">\n",
       "      <th></th>\n",
       "      <th>Total Players</th>\n",
       "    </tr>\n",
       "  </thead>\n",
       "  <tbody>\n",
       "    <tr>\n",
       "      <th>0</th>\n",
       "      <td>576</td>\n",
       "    </tr>\n",
       "  </tbody>\n",
       "</table>\n",
       "</div>"
      ],
      "text/plain": [
       "   Total Players\n",
       "0            576"
      ]
     },
     "execution_count": 14,
     "metadata": {},
     "output_type": "execute_result"
    }
   ],
   "source": [
    "# Find player count\n",
    "player_count = len(purchase_data[\"SN\"].value_counts())\n",
    "\n",
    "# Display player count\n",
    "player_count_table = pd.DataFrame({\"Total Players\": [player_count]})\n",
    "player_count_table"
   ]
  },
  {
   "cell_type": "code",
   "execution_count": 4,
   "metadata": {},
   "outputs": [],
   "source": [
    "# Find total # of unique items\n",
    "items_count = len(purchase_data[\"Item ID\"].unique())\n",
    "\n",
    "# Find average puchase price\n",
    "avg_price = purchase_data[\"Price\"].mean()\n",
    "\n",
    "# Find total # of purchases\n",
    "purchase_count = purchase_data[\"Item ID\"].count()\n",
    "\n",
    "# Find total revenue\n",
    "total_revenue = purchase_data[\"Price\"].sum()"
   ]
  },
  {
   "cell_type": "code",
   "execution_count": 17,
   "metadata": {},
   "outputs": [
    {
     "data": {
      "text/html": [
       "<div>\n",
       "<style scoped>\n",
       "    .dataframe tbody tr th:only-of-type {\n",
       "        vertical-align: middle;\n",
       "    }\n",
       "\n",
       "    .dataframe tbody tr th {\n",
       "        vertical-align: top;\n",
       "    }\n",
       "\n",
       "    .dataframe thead th {\n",
       "        text-align: right;\n",
       "    }\n",
       "</style>\n",
       "<table border=\"1\" class=\"dataframe\">\n",
       "  <thead>\n",
       "    <tr style=\"text-align: right;\">\n",
       "      <th></th>\n",
       "      <th>Number of Unique Items</th>\n",
       "      <th>Average Price</th>\n",
       "      <th>Number of Purchases</th>\n",
       "      <th>Total Revenue</th>\n",
       "    </tr>\n",
       "  </thead>\n",
       "  <tbody>\n",
       "    <tr>\n",
       "      <th>0</th>\n",
       "      <td>183</td>\n",
       "      <td>$3.05</td>\n",
       "      <td>780</td>\n",
       "      <td>$2379.77</td>\n",
       "    </tr>\n",
       "  </tbody>\n",
       "</table>\n",
       "</div>"
      ],
      "text/plain": [
       "   Number of Unique Items Average Price  Number of Purchases Total Revenue\n",
       "0                     183         $3.05                  780      $2379.77"
      ]
     },
     "execution_count": 17,
     "metadata": {},
     "output_type": "execute_result"
    }
   ],
   "source": [
    "# Display total purchasing analysis\n",
    "purchasing_total_table = pd.DataFrame({\"Number of Unique Items\": [items_count],\n",
    "                              \"Average Price\": \"$\" + str(avg_price.round(2)),\n",
    "                              \"Number of Purchases\": [purchase_count],\n",
    "                              \"Total Revenue\": \"$\" + str(total_revenue)})\n",
    "purchasing_total_table"
   ]
  },
  {
   "cell_type": "code",
   "execution_count": 24,
   "metadata": {},
   "outputs": [],
   "source": [
    "# Group purchase data for gender\n",
    "gender_stats = purchase_data.groupby(\"Gender\")\n",
    "\n",
    "# Gender count\n",
    "gender_count = gender_stats.nunique()[\"SN\"]\n",
    "\n",
    "# Gender percentages\n",
    "gender_percentage = gender_count / player_count * 100"
   ]
  },
  {
   "cell_type": "code",
   "execution_count": 44,
   "metadata": {},
   "outputs": [
    {
     "data": {
      "text/html": [
       "<style  type=\"text/css\" >\n",
       "</style><table id=\"T_4dd32378_9abd_11e9_bff7_784f4373b4f3\" ><thead>    <tr>        <th class=\"blank level0\" ></th>        <th class=\"col_heading level0 col0\" >Total Count</th>        <th class=\"col_heading level0 col1\" >Percentage of Players</th>    </tr></thead><tbody>\n",
       "                <tr>\n",
       "                        <th id=\"T_4dd32378_9abd_11e9_bff7_784f4373b4f3level0_row0\" class=\"row_heading level0 row0\" >Male</th>\n",
       "                        <td id=\"T_4dd32378_9abd_11e9_bff7_784f4373b4f3row0_col0\" class=\"data row0 col0\" >484</td>\n",
       "                        <td id=\"T_4dd32378_9abd_11e9_bff7_784f4373b4f3row0_col1\" class=\"data row0 col1\" >84.03</td>\n",
       "            </tr>\n",
       "            <tr>\n",
       "                        <th id=\"T_4dd32378_9abd_11e9_bff7_784f4373b4f3level0_row1\" class=\"row_heading level0 row1\" >Female</th>\n",
       "                        <td id=\"T_4dd32378_9abd_11e9_bff7_784f4373b4f3row1_col0\" class=\"data row1 col0\" >81</td>\n",
       "                        <td id=\"T_4dd32378_9abd_11e9_bff7_784f4373b4f3row1_col1\" class=\"data row1 col1\" >14.06</td>\n",
       "            </tr>\n",
       "            <tr>\n",
       "                        <th id=\"T_4dd32378_9abd_11e9_bff7_784f4373b4f3level0_row2\" class=\"row_heading level0 row2\" >Other / Non-Disclosed</th>\n",
       "                        <td id=\"T_4dd32378_9abd_11e9_bff7_784f4373b4f3row2_col0\" class=\"data row2 col0\" >11</td>\n",
       "                        <td id=\"T_4dd32378_9abd_11e9_bff7_784f4373b4f3row2_col1\" class=\"data row2 col1\" >1.91</td>\n",
       "            </tr>\n",
       "    </tbody></table>"
      ],
      "text/plain": [
       "<pandas.io.formats.style.Styler at 0x119f09da0>"
      ]
     },
     "execution_count": 44,
     "metadata": {},
     "output_type": "execute_result"
    }
   ],
   "source": [
    "# Display gender demographics\n",
    "gender_demographics_table = pd.DataFrame({\"Total Count\": gender_count, \"Percentage of Players\": gender_percentage})\n",
    "\n",
    "# Format dataframe no index name in corner\n",
    "gender_demographics_table.index.name = None\n",
    "\n",
    "# Format gender demographics table to be in descending order with two decimal places and percentage\n",
    "gender_demographics_table.sort_values([\"Total Count\"], ascending = False).style.format({\"Percentage of Players\":\"{:.2f}\"})"
   ]
  },
  {
   "cell_type": "code",
   "execution_count": 45,
   "metadata": {},
   "outputs": [],
   "source": [
    "# Gender purchase count\n",
    "gender_purchase = gender_stats[\"Purchase ID\"].count()\n",
    "\n",
    "# Gender average purchase price\n",
    "gender_avg_purchase_price = gender_stats[\"Price\"].mean()\n",
    "\n",
    "# Gender total purchase value\n",
    "gender_purchase_total = gender_stats[\"Price\"].sum()\n",
    "\n",
    "# Gender average purchase total per person divided by purchase count\n",
    "avg_purchase_per_person = gender_purchase_total / gender_count"
   ]
  },
  {
   "cell_type": "code",
   "execution_count": 49,
   "metadata": {},
   "outputs": [
    {
     "data": {
      "text/html": [
       "<style  type=\"text/css\" >\n",
       "</style><table id=\"T_7b72419e_9abe_11e9_ae60_784f4373b4f3\" ><thead>    <tr>        <th class=\"blank level0\" ></th>        <th class=\"col_heading level0 col0\" >Purchase Count</th>        <th class=\"col_heading level0 col1\" >Average Purchase Price</th>        <th class=\"col_heading level0 col2\" >Total Purchase Value</th>        <th class=\"col_heading level0 col3\" >Avg Purchase Total per Person</th>    </tr>    <tr>        <th class=\"index_name level0\" >Gender</th>        <th class=\"blank\" ></th>        <th class=\"blank\" ></th>        <th class=\"blank\" ></th>        <th class=\"blank\" ></th>    </tr></thead><tbody>\n",
       "                <tr>\n",
       "                        <th id=\"T_7b72419e_9abe_11e9_ae60_784f4373b4f3level0_row0\" class=\"row_heading level0 row0\" >Female</th>\n",
       "                        <td id=\"T_7b72419e_9abe_11e9_ae60_784f4373b4f3row0_col0\" class=\"data row0 col0\" >113</td>\n",
       "                        <td id=\"T_7b72419e_9abe_11e9_ae60_784f4373b4f3row0_col1\" class=\"data row0 col1\" >$3.20</td>\n",
       "                        <td id=\"T_7b72419e_9abe_11e9_ae60_784f4373b4f3row0_col2\" class=\"data row0 col2\" >$361.94</td>\n",
       "                        <td id=\"T_7b72419e_9abe_11e9_ae60_784f4373b4f3row0_col3\" class=\"data row0 col3\" >$4.47</td>\n",
       "            </tr>\n",
       "            <tr>\n",
       "                        <th id=\"T_7b72419e_9abe_11e9_ae60_784f4373b4f3level0_row1\" class=\"row_heading level0 row1\" >Male</th>\n",
       "                        <td id=\"T_7b72419e_9abe_11e9_ae60_784f4373b4f3row1_col0\" class=\"data row1 col0\" >652</td>\n",
       "                        <td id=\"T_7b72419e_9abe_11e9_ae60_784f4373b4f3row1_col1\" class=\"data row1 col1\" >$3.02</td>\n",
       "                        <td id=\"T_7b72419e_9abe_11e9_ae60_784f4373b4f3row1_col2\" class=\"data row1 col2\" >$1,967.64</td>\n",
       "                        <td id=\"T_7b72419e_9abe_11e9_ae60_784f4373b4f3row1_col3\" class=\"data row1 col3\" >$4.07</td>\n",
       "            </tr>\n",
       "            <tr>\n",
       "                        <th id=\"T_7b72419e_9abe_11e9_ae60_784f4373b4f3level0_row2\" class=\"row_heading level0 row2\" >Other / Non-Disclosed</th>\n",
       "                        <td id=\"T_7b72419e_9abe_11e9_ae60_784f4373b4f3row2_col0\" class=\"data row2 col0\" >15</td>\n",
       "                        <td id=\"T_7b72419e_9abe_11e9_ae60_784f4373b4f3row2_col1\" class=\"data row2 col1\" >$3.35</td>\n",
       "                        <td id=\"T_7b72419e_9abe_11e9_ae60_784f4373b4f3row2_col2\" class=\"data row2 col2\" >$50.19</td>\n",
       "                        <td id=\"T_7b72419e_9abe_11e9_ae60_784f4373b4f3row2_col3\" class=\"data row2 col3\" >$4.56</td>\n",
       "            </tr>\n",
       "    </tbody></table>"
      ],
      "text/plain": [
       "<pandas.io.formats.style.Styler at 0x119f46550>"
      ]
     },
     "execution_count": 49,
     "metadata": {},
     "output_type": "execute_result"
    }
   ],
   "source": [
    "# Display gender purchase analysis\n",
    "gender_purchase_table = pd.DataFrame({\"Purchase Count\": gender_purchase, \n",
    "                                    \"Average Purchase Price\": gender_avg_purchase_price,\n",
    "                                    \"Total Purchase Value\": gender_purchase_total,\n",
    "                                    \"Avg Purchase Total per Person\": avg_purchase_per_person})\n",
    "\n",
    "# Have \"Gender\" in the top left of table\n",
    "gender_demographics.index.name = \"Gender\"\n",
    "\n",
    "# Format gender purchase analysis with currency style\n",
    "gender_purchase_table.style.format({\"Average Purchase Value\":\"${:,.2f}\",\n",
    "                                  \"Average Purchase Price\":\"${:,.2f}\",\n",
    "                                    \"Total Purchase Value\":\"${:,.2f}\",\n",
    "                                    \"Avg Purchase Total per Person\":\"${:,.2f}\"})"
   ]
  },
  {
   "cell_type": "code",
   "execution_count": 42,
   "metadata": {},
   "outputs": [],
   "source": [
    "# Establish bins for ages\n",
    "age_bins = [0, 9.99, 14.99, 19.99, 24.99, 29.99, 34.99, 39.99, 99999]\n",
    "group_names = [\"<10\", \"10-14\", \"15-19\", \"20-24\", \"25-29\", \"30-34\", \"35-39\", \"40+\"]\n",
    "\n",
    "# Categorize the existing players using the age bins\n",
    "purchase_data[\"Age Group\"] = pd.cut(purchase_data[\"Age\"],age_bins, labels=group_names)\n",
    "purchase_data\n",
    "\n",
    "# Group the added \"Age Group\"\n",
    "age_grouped = purchase_data.groupby(\"Age Group\")\n",
    "\n",
    "# Find total players by age \n",
    "age_count = age_grouped[\"SN\"].nunique()\n",
    "\n",
    "# Calculate percentages by age\n",
    "age_percentage = (age_count/player_count) * 100"
   ]
  },
  {
   "cell_type": "code",
   "execution_count": 50,
   "metadata": {},
   "outputs": [
    {
     "data": {
      "text/html": [
       "<style  type=\"text/css\" >\n",
       "</style><table id=\"T_9a7beb78_9abe_11e9_8ab2_784f4373b4f3\" ><thead>    <tr>        <th class=\"blank level0\" ></th>        <th class=\"col_heading level0 col0\" >Total Count</th>        <th class=\"col_heading level0 col1\" >Percentage of Players</th>    </tr></thead><tbody>\n",
       "                <tr>\n",
       "                        <th id=\"T_9a7beb78_9abe_11e9_8ab2_784f4373b4f3level0_row0\" class=\"row_heading level0 row0\" ><10</th>\n",
       "                        <td id=\"T_9a7beb78_9abe_11e9_8ab2_784f4373b4f3row0_col0\" class=\"data row0 col0\" >17</td>\n",
       "                        <td id=\"T_9a7beb78_9abe_11e9_8ab2_784f4373b4f3row0_col1\" class=\"data row0 col1\" >2.95</td>\n",
       "            </tr>\n",
       "            <tr>\n",
       "                        <th id=\"T_9a7beb78_9abe_11e9_8ab2_784f4373b4f3level0_row1\" class=\"row_heading level0 row1\" >10-14</th>\n",
       "                        <td id=\"T_9a7beb78_9abe_11e9_8ab2_784f4373b4f3row1_col0\" class=\"data row1 col0\" >22</td>\n",
       "                        <td id=\"T_9a7beb78_9abe_11e9_8ab2_784f4373b4f3row1_col1\" class=\"data row1 col1\" >3.82</td>\n",
       "            </tr>\n",
       "            <tr>\n",
       "                        <th id=\"T_9a7beb78_9abe_11e9_8ab2_784f4373b4f3level0_row2\" class=\"row_heading level0 row2\" >15-19</th>\n",
       "                        <td id=\"T_9a7beb78_9abe_11e9_8ab2_784f4373b4f3row2_col0\" class=\"data row2 col0\" >107</td>\n",
       "                        <td id=\"T_9a7beb78_9abe_11e9_8ab2_784f4373b4f3row2_col1\" class=\"data row2 col1\" >18.58</td>\n",
       "            </tr>\n",
       "            <tr>\n",
       "                        <th id=\"T_9a7beb78_9abe_11e9_8ab2_784f4373b4f3level0_row3\" class=\"row_heading level0 row3\" >20-24</th>\n",
       "                        <td id=\"T_9a7beb78_9abe_11e9_8ab2_784f4373b4f3row3_col0\" class=\"data row3 col0\" >258</td>\n",
       "                        <td id=\"T_9a7beb78_9abe_11e9_8ab2_784f4373b4f3row3_col1\" class=\"data row3 col1\" >44.79</td>\n",
       "            </tr>\n",
       "            <tr>\n",
       "                        <th id=\"T_9a7beb78_9abe_11e9_8ab2_784f4373b4f3level0_row4\" class=\"row_heading level0 row4\" >25-29</th>\n",
       "                        <td id=\"T_9a7beb78_9abe_11e9_8ab2_784f4373b4f3row4_col0\" class=\"data row4 col0\" >77</td>\n",
       "                        <td id=\"T_9a7beb78_9abe_11e9_8ab2_784f4373b4f3row4_col1\" class=\"data row4 col1\" >13.37</td>\n",
       "            </tr>\n",
       "            <tr>\n",
       "                        <th id=\"T_9a7beb78_9abe_11e9_8ab2_784f4373b4f3level0_row5\" class=\"row_heading level0 row5\" >30-34</th>\n",
       "                        <td id=\"T_9a7beb78_9abe_11e9_8ab2_784f4373b4f3row5_col0\" class=\"data row5 col0\" >52</td>\n",
       "                        <td id=\"T_9a7beb78_9abe_11e9_8ab2_784f4373b4f3row5_col1\" class=\"data row5 col1\" >9.03</td>\n",
       "            </tr>\n",
       "            <tr>\n",
       "                        <th id=\"T_9a7beb78_9abe_11e9_8ab2_784f4373b4f3level0_row6\" class=\"row_heading level0 row6\" >35-39</th>\n",
       "                        <td id=\"T_9a7beb78_9abe_11e9_8ab2_784f4373b4f3row6_col0\" class=\"data row6 col0\" >31</td>\n",
       "                        <td id=\"T_9a7beb78_9abe_11e9_8ab2_784f4373b4f3row6_col1\" class=\"data row6 col1\" >5.38</td>\n",
       "            </tr>\n",
       "            <tr>\n",
       "                        <th id=\"T_9a7beb78_9abe_11e9_8ab2_784f4373b4f3level0_row7\" class=\"row_heading level0 row7\" >40+</th>\n",
       "                        <td id=\"T_9a7beb78_9abe_11e9_8ab2_784f4373b4f3row7_col0\" class=\"data row7 col0\" >12</td>\n",
       "                        <td id=\"T_9a7beb78_9abe_11e9_8ab2_784f4373b4f3row7_col1\" class=\"data row7 col1\" >2.08</td>\n",
       "            </tr>\n",
       "    </tbody></table>"
      ],
      "text/plain": [
       "<pandas.io.formats.style.Styler at 0x119f0c240>"
      ]
     },
     "execution_count": 50,
     "metadata": {},
     "output_type": "execute_result"
    }
   ],
   "source": [
    "# Display age demographics\n",
    "age_demographics_table = pd.DataFrame({\"Total Count\": age_count, \"Percentage of Players\": age_percentage})\n",
    "\n",
    "# Format dataframe no index name in corner\n",
    "age_demographics_table.index.name = None\n",
    "\n",
    "# Format age demographics table with two decimal places\n",
    "age_demographics_table.style.format({\"Percentage of Players\":\"{:,.2f}\"})"
   ]
  },
  {
   "cell_type": "code",
   "execution_count": 56,
   "metadata": {},
   "outputs": [],
   "source": [
    "# Count purchases by age group\n",
    "age_purchases = age_grouped[\"Purchase ID\"].count()\n",
    "\n",
    "# Average purchase price by age group \n",
    "age_avg_purchase_price = age_grouped[\"Price\"].mean()\n",
    "\n",
    "# Total purchase value by age group \n",
    "age_total_purchase_value = age_grouped[\"Price\"].sum()\n",
    "\n",
    "# Average total purchase per person by age group\n",
    "age_avg_purchase_per_person = age_total_purchase_value / age_count"
   ]
  },
  {
   "cell_type": "code",
   "execution_count": 59,
   "metadata": {},
   "outputs": [
    {
     "data": {
      "text/html": [
       "<style  type=\"text/css\" >\n",
       "</style><table id=\"T_efc324ae_9ac1_11e9_bcd8_784f4373b4f3\" ><thead>    <tr>        <th class=\"blank level0\" ></th>        <th class=\"col_heading level0 col0\" >Purchase Count</th>        <th class=\"col_heading level0 col1\" >Average Purchase Price</th>        <th class=\"col_heading level0 col2\" >Total Purchase Value</th>        <th class=\"col_heading level0 col3\" >Average Total Purchase per Person</th>    </tr></thead><tbody>\n",
       "                <tr>\n",
       "                        <th id=\"T_efc324ae_9ac1_11e9_bcd8_784f4373b4f3level0_row0\" class=\"row_heading level0 row0\" ><10</th>\n",
       "                        <td id=\"T_efc324ae_9ac1_11e9_bcd8_784f4373b4f3row0_col0\" class=\"data row0 col0\" >23</td>\n",
       "                        <td id=\"T_efc324ae_9ac1_11e9_bcd8_784f4373b4f3row0_col1\" class=\"data row0 col1\" >$3.35</td>\n",
       "                        <td id=\"T_efc324ae_9ac1_11e9_bcd8_784f4373b4f3row0_col2\" class=\"data row0 col2\" >$77.13</td>\n",
       "                        <td id=\"T_efc324ae_9ac1_11e9_bcd8_784f4373b4f3row0_col3\" class=\"data row0 col3\" >$4.54</td>\n",
       "            </tr>\n",
       "            <tr>\n",
       "                        <th id=\"T_efc324ae_9ac1_11e9_bcd8_784f4373b4f3level0_row1\" class=\"row_heading level0 row1\" >10-14</th>\n",
       "                        <td id=\"T_efc324ae_9ac1_11e9_bcd8_784f4373b4f3row1_col0\" class=\"data row1 col0\" >28</td>\n",
       "                        <td id=\"T_efc324ae_9ac1_11e9_bcd8_784f4373b4f3row1_col1\" class=\"data row1 col1\" >$2.96</td>\n",
       "                        <td id=\"T_efc324ae_9ac1_11e9_bcd8_784f4373b4f3row1_col2\" class=\"data row1 col2\" >$82.78</td>\n",
       "                        <td id=\"T_efc324ae_9ac1_11e9_bcd8_784f4373b4f3row1_col3\" class=\"data row1 col3\" >$3.76</td>\n",
       "            </tr>\n",
       "            <tr>\n",
       "                        <th id=\"T_efc324ae_9ac1_11e9_bcd8_784f4373b4f3level0_row2\" class=\"row_heading level0 row2\" >15-19</th>\n",
       "                        <td id=\"T_efc324ae_9ac1_11e9_bcd8_784f4373b4f3row2_col0\" class=\"data row2 col0\" >136</td>\n",
       "                        <td id=\"T_efc324ae_9ac1_11e9_bcd8_784f4373b4f3row2_col1\" class=\"data row2 col1\" >$3.04</td>\n",
       "                        <td id=\"T_efc324ae_9ac1_11e9_bcd8_784f4373b4f3row2_col2\" class=\"data row2 col2\" >$412.89</td>\n",
       "                        <td id=\"T_efc324ae_9ac1_11e9_bcd8_784f4373b4f3row2_col3\" class=\"data row2 col3\" >$3.86</td>\n",
       "            </tr>\n",
       "            <tr>\n",
       "                        <th id=\"T_efc324ae_9ac1_11e9_bcd8_784f4373b4f3level0_row3\" class=\"row_heading level0 row3\" >20-24</th>\n",
       "                        <td id=\"T_efc324ae_9ac1_11e9_bcd8_784f4373b4f3row3_col0\" class=\"data row3 col0\" >365</td>\n",
       "                        <td id=\"T_efc324ae_9ac1_11e9_bcd8_784f4373b4f3row3_col1\" class=\"data row3 col1\" >$3.05</td>\n",
       "                        <td id=\"T_efc324ae_9ac1_11e9_bcd8_784f4373b4f3row3_col2\" class=\"data row3 col2\" >$1,114.06</td>\n",
       "                        <td id=\"T_efc324ae_9ac1_11e9_bcd8_784f4373b4f3row3_col3\" class=\"data row3 col3\" >$4.32</td>\n",
       "            </tr>\n",
       "            <tr>\n",
       "                        <th id=\"T_efc324ae_9ac1_11e9_bcd8_784f4373b4f3level0_row4\" class=\"row_heading level0 row4\" >25-29</th>\n",
       "                        <td id=\"T_efc324ae_9ac1_11e9_bcd8_784f4373b4f3row4_col0\" class=\"data row4 col0\" >101</td>\n",
       "                        <td id=\"T_efc324ae_9ac1_11e9_bcd8_784f4373b4f3row4_col1\" class=\"data row4 col1\" >$2.90</td>\n",
       "                        <td id=\"T_efc324ae_9ac1_11e9_bcd8_784f4373b4f3row4_col2\" class=\"data row4 col2\" >$293.00</td>\n",
       "                        <td id=\"T_efc324ae_9ac1_11e9_bcd8_784f4373b4f3row4_col3\" class=\"data row4 col3\" >$3.81</td>\n",
       "            </tr>\n",
       "            <tr>\n",
       "                        <th id=\"T_efc324ae_9ac1_11e9_bcd8_784f4373b4f3level0_row5\" class=\"row_heading level0 row5\" >30-34</th>\n",
       "                        <td id=\"T_efc324ae_9ac1_11e9_bcd8_784f4373b4f3row5_col0\" class=\"data row5 col0\" >73</td>\n",
       "                        <td id=\"T_efc324ae_9ac1_11e9_bcd8_784f4373b4f3row5_col1\" class=\"data row5 col1\" >$2.93</td>\n",
       "                        <td id=\"T_efc324ae_9ac1_11e9_bcd8_784f4373b4f3row5_col2\" class=\"data row5 col2\" >$214.00</td>\n",
       "                        <td id=\"T_efc324ae_9ac1_11e9_bcd8_784f4373b4f3row5_col3\" class=\"data row5 col3\" >$4.12</td>\n",
       "            </tr>\n",
       "            <tr>\n",
       "                        <th id=\"T_efc324ae_9ac1_11e9_bcd8_784f4373b4f3level0_row6\" class=\"row_heading level0 row6\" >35-39</th>\n",
       "                        <td id=\"T_efc324ae_9ac1_11e9_bcd8_784f4373b4f3row6_col0\" class=\"data row6 col0\" >41</td>\n",
       "                        <td id=\"T_efc324ae_9ac1_11e9_bcd8_784f4373b4f3row6_col1\" class=\"data row6 col1\" >$3.60</td>\n",
       "                        <td id=\"T_efc324ae_9ac1_11e9_bcd8_784f4373b4f3row6_col2\" class=\"data row6 col2\" >$147.67</td>\n",
       "                        <td id=\"T_efc324ae_9ac1_11e9_bcd8_784f4373b4f3row6_col3\" class=\"data row6 col3\" >$4.76</td>\n",
       "            </tr>\n",
       "            <tr>\n",
       "                        <th id=\"T_efc324ae_9ac1_11e9_bcd8_784f4373b4f3level0_row7\" class=\"row_heading level0 row7\" >40+</th>\n",
       "                        <td id=\"T_efc324ae_9ac1_11e9_bcd8_784f4373b4f3row7_col0\" class=\"data row7 col0\" >13</td>\n",
       "                        <td id=\"T_efc324ae_9ac1_11e9_bcd8_784f4373b4f3row7_col1\" class=\"data row7 col1\" >$2.94</td>\n",
       "                        <td id=\"T_efc324ae_9ac1_11e9_bcd8_784f4373b4f3row7_col2\" class=\"data row7 col2\" >$38.24</td>\n",
       "                        <td id=\"T_efc324ae_9ac1_11e9_bcd8_784f4373b4f3row7_col3\" class=\"data row7 col3\" >$3.19</td>\n",
       "            </tr>\n",
       "    </tbody></table>"
      ],
      "text/plain": [
       "<pandas.io.formats.style.Styler at 0x119fa92e8>"
      ]
     },
     "execution_count": 59,
     "metadata": {},
     "output_type": "execute_result"
    }
   ],
   "source": [
    "# Display age purchase analysis\n",
    "age_purchase_table = pd.DataFrame({\"Purchase Count\": age_purchases,\n",
    "                                 \"Average Purchase Price\": age_avg_purchase_price,\n",
    "                                 \"Total Purchase Value\": age_total_purchase_value,\n",
    "                                 \"Average Total Purchase per Person\": age_avg_purchase_per_person})\n",
    "\n",
    "# Format dataframe no index name in corner\n",
    "age_purchase_table.index.name = None\n",
    "\n",
    "# Format age purchase analysis with currency style\n",
    "age_purchase_table.style.format({\"Average Purchase Price\":\"${:,.2f}\",\n",
    "                               \"Total Purchase Value\":\"${:,.2f}\",\n",
    "                               \"Average Total Purchase per Person\":\"${:,.2f}\"})"
   ]
  },
  {
   "cell_type": "code",
   "execution_count": 60,
   "metadata": {},
   "outputs": [],
   "source": [
    "# Group purchase data by screen name\n",
    "spender_stats = purchase_data.groupby(\"SN\")\n",
    "\n",
    "# Total purchases by name\n",
    "spender_purchase_count = spender_stats[\"Purchase ID\"].count()\n",
    "\n",
    "# Average purchase by name \n",
    "spender_avg_purchase_price = spender_stats[\"Price\"].mean()\n",
    "\n",
    "# Purchase total \n",
    "spender_total_purchase = spender_stats[\"Price\"].sum()"
   ]
  },
  {
   "cell_type": "code",
   "execution_count": 61,
   "metadata": {},
   "outputs": [
    {
     "data": {
      "text/html": [
       "<style  type=\"text/css\" >\n",
       "</style><table id=\"T_f0e3fee8_9ac2_11e9_b62e_784f4373b4f3\" ><thead>    <tr>        <th class=\"blank level0\" ></th>        <th class=\"col_heading level0 col0\" >Purchase Count</th>        <th class=\"col_heading level0 col1\" >Average Purchase Price</th>        <th class=\"col_heading level0 col2\" >Total Purchase Value</th>    </tr>    <tr>        <th class=\"index_name level0\" >SN</th>        <th class=\"blank\" ></th>        <th class=\"blank\" ></th>        <th class=\"blank\" ></th>    </tr></thead><tbody>\n",
       "                <tr>\n",
       "                        <th id=\"T_f0e3fee8_9ac2_11e9_b62e_784f4373b4f3level0_row0\" class=\"row_heading level0 row0\" >Lisosia93</th>\n",
       "                        <td id=\"T_f0e3fee8_9ac2_11e9_b62e_784f4373b4f3row0_col0\" class=\"data row0 col0\" >5</td>\n",
       "                        <td id=\"T_f0e3fee8_9ac2_11e9_b62e_784f4373b4f3row0_col1\" class=\"data row0 col1\" >$3.79</td>\n",
       "                        <td id=\"T_f0e3fee8_9ac2_11e9_b62e_784f4373b4f3row0_col2\" class=\"data row0 col2\" >$18.96</td>\n",
       "            </tr>\n",
       "            <tr>\n",
       "                        <th id=\"T_f0e3fee8_9ac2_11e9_b62e_784f4373b4f3level0_row1\" class=\"row_heading level0 row1\" >Idastidru52</th>\n",
       "                        <td id=\"T_f0e3fee8_9ac2_11e9_b62e_784f4373b4f3row1_col0\" class=\"data row1 col0\" >4</td>\n",
       "                        <td id=\"T_f0e3fee8_9ac2_11e9_b62e_784f4373b4f3row1_col1\" class=\"data row1 col1\" >$3.86</td>\n",
       "                        <td id=\"T_f0e3fee8_9ac2_11e9_b62e_784f4373b4f3row1_col2\" class=\"data row1 col2\" >$15.45</td>\n",
       "            </tr>\n",
       "            <tr>\n",
       "                        <th id=\"T_f0e3fee8_9ac2_11e9_b62e_784f4373b4f3level0_row2\" class=\"row_heading level0 row2\" >Chamjask73</th>\n",
       "                        <td id=\"T_f0e3fee8_9ac2_11e9_b62e_784f4373b4f3row2_col0\" class=\"data row2 col0\" >3</td>\n",
       "                        <td id=\"T_f0e3fee8_9ac2_11e9_b62e_784f4373b4f3row2_col1\" class=\"data row2 col1\" >$4.61</td>\n",
       "                        <td id=\"T_f0e3fee8_9ac2_11e9_b62e_784f4373b4f3row2_col2\" class=\"data row2 col2\" >$13.83</td>\n",
       "            </tr>\n",
       "            <tr>\n",
       "                        <th id=\"T_f0e3fee8_9ac2_11e9_b62e_784f4373b4f3level0_row3\" class=\"row_heading level0 row3\" >Iral74</th>\n",
       "                        <td id=\"T_f0e3fee8_9ac2_11e9_b62e_784f4373b4f3row3_col0\" class=\"data row3 col0\" >4</td>\n",
       "                        <td id=\"T_f0e3fee8_9ac2_11e9_b62e_784f4373b4f3row3_col1\" class=\"data row3 col1\" >$3.40</td>\n",
       "                        <td id=\"T_f0e3fee8_9ac2_11e9_b62e_784f4373b4f3row3_col2\" class=\"data row3 col2\" >$13.62</td>\n",
       "            </tr>\n",
       "            <tr>\n",
       "                        <th id=\"T_f0e3fee8_9ac2_11e9_b62e_784f4373b4f3level0_row4\" class=\"row_heading level0 row4\" >Iskadarya95</th>\n",
       "                        <td id=\"T_f0e3fee8_9ac2_11e9_b62e_784f4373b4f3row4_col0\" class=\"data row4 col0\" >3</td>\n",
       "                        <td id=\"T_f0e3fee8_9ac2_11e9_b62e_784f4373b4f3row4_col1\" class=\"data row4 col1\" >$4.37</td>\n",
       "                        <td id=\"T_f0e3fee8_9ac2_11e9_b62e_784f4373b4f3row4_col2\" class=\"data row4 col2\" >$13.10</td>\n",
       "            </tr>\n",
       "    </tbody></table>"
      ],
      "text/plain": [
       "<pandas.io.formats.style.Styler at 0x119fa9940>"
      ]
     },
     "execution_count": 61,
     "metadata": {},
     "output_type": "execute_result"
    }
   ],
   "source": [
    "# Display top spenders\n",
    "top_spenders_table = pd.DataFrame({\"Purchase Count\": spender_purchase_count,\n",
    "                             \"Average Purchase Price\": spender_avg_purchase_price,\n",
    "                             \"Total Purchase Value\": spender_total_purchase})\n",
    "\n",
    "# Sort total purchase value column in descending order \n",
    "spenders_formatted = top_spenders_table.sort_values([\"Total Purchase Value\"], ascending=False).head()\n",
    "\n",
    "# Format with currency style\n",
    "spenders_formatted.style.format({\"Average Purchase Total\":\"${:,.2f}\",\n",
    "                                 \"Average Purchase Price\":\"${:,.2f}\", \n",
    "                                 \"Total Purchase Value\":\"${:,.2f}\"})"
   ]
  },
  {
   "cell_type": "code",
   "execution_count": 62,
   "metadata": {},
   "outputs": [],
   "source": [
    "# Create new data frame with items that relate to most popular items\n",
    "items = purchase_data[[\"Item ID\", \"Item Name\", \"Price\"]]\n",
    "\n",
    "# Group items by \"item id\" and \"item name\" \n",
    "item_stats = items.groupby([\"Item ID\",\"Item Name\"])\n",
    "\n",
    "# Count the amount of times an item has been purchased \n",
    "item_purchase_count = item_stats[\"Price\"].count()\n",
    "\n",
    "# Purchase value per item \n",
    "item_purchase_value = item_stats[\"Price\"].sum() \n",
    "\n",
    "# Calculate individual item price\n",
    "item_price = item_purchase_value / item_purchase_count"
   ]
  },
  {
   "cell_type": "code",
   "execution_count": 67,
   "metadata": {},
   "outputs": [
    {
     "data": {
      "text/html": [
       "<style  type=\"text/css\" >\n",
       "</style><table id=\"T_945dab4c_9ac5_11e9_af54_784f4373b4f3\" ><thead>    <tr>        <th class=\"blank\" ></th>        <th class=\"blank level0\" ></th>        <th class=\"col_heading level0 col0\" >Purchase Count</th>        <th class=\"col_heading level0 col1\" >Item Price</th>        <th class=\"col_heading level0 col2\" >Total Purchase Value</th>    </tr>    <tr>        <th class=\"index_name level0\" >Item ID</th>        <th class=\"index_name level1\" >Item Name</th>        <th class=\"blank\" ></th>        <th class=\"blank\" ></th>        <th class=\"blank\" ></th>    </tr></thead><tbody>\n",
       "                <tr>\n",
       "                        <th id=\"T_945dab4c_9ac5_11e9_af54_784f4373b4f3level0_row0\" class=\"row_heading level0 row0\" >178</th>\n",
       "                        <th id=\"T_945dab4c_9ac5_11e9_af54_784f4373b4f3level1_row0\" class=\"row_heading level1 row0\" >Oathbreaker, Last Hope of the Breaking Storm</th>\n",
       "                        <td id=\"T_945dab4c_9ac5_11e9_af54_784f4373b4f3row0_col0\" class=\"data row0 col0\" >12</td>\n",
       "                        <td id=\"T_945dab4c_9ac5_11e9_af54_784f4373b4f3row0_col1\" class=\"data row0 col1\" >$4.23</td>\n",
       "                        <td id=\"T_945dab4c_9ac5_11e9_af54_784f4373b4f3row0_col2\" class=\"data row0 col2\" >$50.76</td>\n",
       "            </tr>\n",
       "            <tr>\n",
       "                        <th id=\"T_945dab4c_9ac5_11e9_af54_784f4373b4f3level0_row1\" class=\"row_heading level0 row1\" >145</th>\n",
       "                        <th id=\"T_945dab4c_9ac5_11e9_af54_784f4373b4f3level1_row1\" class=\"row_heading level1 row1\" >Fiery Glass Crusader</th>\n",
       "                        <td id=\"T_945dab4c_9ac5_11e9_af54_784f4373b4f3row1_col0\" class=\"data row1 col0\" >9</td>\n",
       "                        <td id=\"T_945dab4c_9ac5_11e9_af54_784f4373b4f3row1_col1\" class=\"data row1 col1\" >$4.58</td>\n",
       "                        <td id=\"T_945dab4c_9ac5_11e9_af54_784f4373b4f3row1_col2\" class=\"data row1 col2\" >$41.22</td>\n",
       "            </tr>\n",
       "            <tr>\n",
       "                        <th id=\"T_945dab4c_9ac5_11e9_af54_784f4373b4f3level0_row2\" class=\"row_heading level0 row2\" >108</th>\n",
       "                        <th id=\"T_945dab4c_9ac5_11e9_af54_784f4373b4f3level1_row2\" class=\"row_heading level1 row2\" >Extraction, Quickblade Of Trembling Hands</th>\n",
       "                        <td id=\"T_945dab4c_9ac5_11e9_af54_784f4373b4f3row2_col0\" class=\"data row2 col0\" >9</td>\n",
       "                        <td id=\"T_945dab4c_9ac5_11e9_af54_784f4373b4f3row2_col1\" class=\"data row2 col1\" >$3.53</td>\n",
       "                        <td id=\"T_945dab4c_9ac5_11e9_af54_784f4373b4f3row2_col2\" class=\"data row2 col2\" >$31.77</td>\n",
       "            </tr>\n",
       "            <tr>\n",
       "                        <th id=\"T_945dab4c_9ac5_11e9_af54_784f4373b4f3level0_row3\" class=\"row_heading level0 row3\" >82</th>\n",
       "                        <th id=\"T_945dab4c_9ac5_11e9_af54_784f4373b4f3level1_row3\" class=\"row_heading level1 row3\" >Nirvana</th>\n",
       "                        <td id=\"T_945dab4c_9ac5_11e9_af54_784f4373b4f3row3_col0\" class=\"data row3 col0\" >9</td>\n",
       "                        <td id=\"T_945dab4c_9ac5_11e9_af54_784f4373b4f3row3_col1\" class=\"data row3 col1\" >$4.90</td>\n",
       "                        <td id=\"T_945dab4c_9ac5_11e9_af54_784f4373b4f3row3_col2\" class=\"data row3 col2\" >$44.10</td>\n",
       "            </tr>\n",
       "            <tr>\n",
       "                        <th id=\"T_945dab4c_9ac5_11e9_af54_784f4373b4f3level0_row4\" class=\"row_heading level0 row4\" >19</th>\n",
       "                        <th id=\"T_945dab4c_9ac5_11e9_af54_784f4373b4f3level1_row4\" class=\"row_heading level1 row4\" >Pursuit, Cudgel of Necromancy</th>\n",
       "                        <td id=\"T_945dab4c_9ac5_11e9_af54_784f4373b4f3row4_col0\" class=\"data row4 col0\" >8</td>\n",
       "                        <td id=\"T_945dab4c_9ac5_11e9_af54_784f4373b4f3row4_col1\" class=\"data row4 col1\" >$1.02</td>\n",
       "                        <td id=\"T_945dab4c_9ac5_11e9_af54_784f4373b4f3row4_col2\" class=\"data row4 col2\" >$8.16</td>\n",
       "            </tr>\n",
       "    </tbody></table>"
      ],
      "text/plain": [
       "<pandas.io.formats.style.Styler at 0x119fb5c50>"
      ]
     },
     "execution_count": 67,
     "metadata": {},
     "output_type": "execute_result"
    }
   ],
   "source": [
    "# Display most popular items\n",
    "popular_items_table = pd.DataFrame({\"Purchase Count\": item_purchase_count, \n",
    "                                   \"Item Price\": item_price,\n",
    "                                   \"Total Purchase Value\": item_purchase_value})\n",
    "\n",
    "# Sort purchase count column in descending order\n",
    "popular_formatted = popular_items_table.sort_values([\"Purchase Count\"], ascending=False).head()\n",
    "\n",
    "# Format with currency style\n",
    "popular_formatted.style.format({\"Item Price\":\"${:,.2f}\",\n",
    "                                \"Total Purchase Value\":\"${:,.2f}\"})"
   ]
  },
  {
   "cell_type": "code",
   "execution_count": 68,
   "metadata": {},
   "outputs": [
    {
     "data": {
      "text/html": [
       "<style  type=\"text/css\" >\n",
       "</style><table id=\"T_1907a624_9ac6_11e9_8958_784f4373b4f3\" ><thead>    <tr>        <th class=\"blank\" ></th>        <th class=\"blank level0\" ></th>        <th class=\"col_heading level0 col0\" >Purchase Count</th>        <th class=\"col_heading level0 col1\" >Item Price</th>        <th class=\"col_heading level0 col2\" >Total Purchase Value</th>    </tr>    <tr>        <th class=\"index_name level0\" >Item ID</th>        <th class=\"index_name level1\" >Item Name</th>        <th class=\"blank\" ></th>        <th class=\"blank\" ></th>        <th class=\"blank\" ></th>    </tr></thead><tbody>\n",
       "                <tr>\n",
       "                        <th id=\"T_1907a624_9ac6_11e9_8958_784f4373b4f3level0_row0\" class=\"row_heading level0 row0\" >178</th>\n",
       "                        <th id=\"T_1907a624_9ac6_11e9_8958_784f4373b4f3level1_row0\" class=\"row_heading level1 row0\" >Oathbreaker, Last Hope of the Breaking Storm</th>\n",
       "                        <td id=\"T_1907a624_9ac6_11e9_8958_784f4373b4f3row0_col0\" class=\"data row0 col0\" >12</td>\n",
       "                        <td id=\"T_1907a624_9ac6_11e9_8958_784f4373b4f3row0_col1\" class=\"data row0 col1\" >$4.23</td>\n",
       "                        <td id=\"T_1907a624_9ac6_11e9_8958_784f4373b4f3row0_col2\" class=\"data row0 col2\" >$50.76</td>\n",
       "            </tr>\n",
       "            <tr>\n",
       "                        <th id=\"T_1907a624_9ac6_11e9_8958_784f4373b4f3level0_row1\" class=\"row_heading level0 row1\" >82</th>\n",
       "                        <th id=\"T_1907a624_9ac6_11e9_8958_784f4373b4f3level1_row1\" class=\"row_heading level1 row1\" >Nirvana</th>\n",
       "                        <td id=\"T_1907a624_9ac6_11e9_8958_784f4373b4f3row1_col0\" class=\"data row1 col0\" >9</td>\n",
       "                        <td id=\"T_1907a624_9ac6_11e9_8958_784f4373b4f3row1_col1\" class=\"data row1 col1\" >$4.90</td>\n",
       "                        <td id=\"T_1907a624_9ac6_11e9_8958_784f4373b4f3row1_col2\" class=\"data row1 col2\" >$44.10</td>\n",
       "            </tr>\n",
       "            <tr>\n",
       "                        <th id=\"T_1907a624_9ac6_11e9_8958_784f4373b4f3level0_row2\" class=\"row_heading level0 row2\" >145</th>\n",
       "                        <th id=\"T_1907a624_9ac6_11e9_8958_784f4373b4f3level1_row2\" class=\"row_heading level1 row2\" >Fiery Glass Crusader</th>\n",
       "                        <td id=\"T_1907a624_9ac6_11e9_8958_784f4373b4f3row2_col0\" class=\"data row2 col0\" >9</td>\n",
       "                        <td id=\"T_1907a624_9ac6_11e9_8958_784f4373b4f3row2_col1\" class=\"data row2 col1\" >$4.58</td>\n",
       "                        <td id=\"T_1907a624_9ac6_11e9_8958_784f4373b4f3row2_col2\" class=\"data row2 col2\" >$41.22</td>\n",
       "            </tr>\n",
       "            <tr>\n",
       "                        <th id=\"T_1907a624_9ac6_11e9_8958_784f4373b4f3level0_row3\" class=\"row_heading level0 row3\" >92</th>\n",
       "                        <th id=\"T_1907a624_9ac6_11e9_8958_784f4373b4f3level1_row3\" class=\"row_heading level1 row3\" >Final Critic</th>\n",
       "                        <td id=\"T_1907a624_9ac6_11e9_8958_784f4373b4f3row3_col0\" class=\"data row3 col0\" >8</td>\n",
       "                        <td id=\"T_1907a624_9ac6_11e9_8958_784f4373b4f3row3_col1\" class=\"data row3 col1\" >$4.88</td>\n",
       "                        <td id=\"T_1907a624_9ac6_11e9_8958_784f4373b4f3row3_col2\" class=\"data row3 col2\" >$39.04</td>\n",
       "            </tr>\n",
       "            <tr>\n",
       "                        <th id=\"T_1907a624_9ac6_11e9_8958_784f4373b4f3level0_row4\" class=\"row_heading level0 row4\" >103</th>\n",
       "                        <th id=\"T_1907a624_9ac6_11e9_8958_784f4373b4f3level1_row4\" class=\"row_heading level1 row4\" >Singed Scalpel</th>\n",
       "                        <td id=\"T_1907a624_9ac6_11e9_8958_784f4373b4f3row4_col0\" class=\"data row4 col0\" >8</td>\n",
       "                        <td id=\"T_1907a624_9ac6_11e9_8958_784f4373b4f3row4_col1\" class=\"data row4 col1\" >$4.35</td>\n",
       "                        <td id=\"T_1907a624_9ac6_11e9_8958_784f4373b4f3row4_col2\" class=\"data row4 col2\" >$34.80</td>\n",
       "            </tr>\n",
       "    </tbody></table>"
      ],
      "text/plain": [
       "<pandas.io.formats.style.Styler at 0x119f0c048>"
      ]
     },
     "execution_count": 68,
     "metadata": {},
     "output_type": "execute_result"
    }
   ],
   "source": [
    "# Sort above table but with total purchase value column in descending order\n",
    "popular_formatted = popular_items_table.sort_values([\"Total Purchase Value\"], ascending=False).head()\n",
    "\n",
    "# Format most profitable items with currency style\n",
    "popular_formatted.style.format({\"Item Price\":\"${:,.2f}\",\n",
    "                                \"Total Purchase Value\":\"${:,.2f}\"})"
   ]
  }
 ],
 "metadata": {
  "kernelspec": {
   "display_name": "Python 3",
   "language": "python",
   "name": "python3"
  },
  "language_info": {
   "codemirror_mode": {
    "name": "ipython",
    "version": 3
   },
   "file_extension": ".py",
   "mimetype": "text/x-python",
   "name": "python",
   "nbconvert_exporter": "python",
   "pygments_lexer": "ipython3",
   "version": "3.6.8"
  }
 },
 "nbformat": 4,
 "nbformat_minor": 2
}
